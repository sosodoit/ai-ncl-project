{
 "cells": [
  {
   "cell_type": "markdown",
   "id": "94422006-0b38-4f83-81bc-273700976f5f",
   "metadata": {},
   "source": [
    "## 기업 코드 적재"
   ]
  },
  {
   "cell_type": "code",
   "execution_count": 1,
   "id": "e00feb5c-56e4-447d-a3ff-808191beae8e",
   "metadata": {},
   "outputs": [],
   "source": [
    "import os\n",
    "import pandas as pd\n",
    "import numpy as np\n",
    "from pathlib import Path\n",
    "from sqlalchemy import create_engine, text\n",
    "import sys\n",
    "sys.path.append(str(Path.cwd().parent))\n",
    "\n",
    "from dotenv import load_dotenv\n",
    "load_dotenv()\n",
    "\n",
    "DB_USER = os.getenv(\"POSTGRE_USER\")\n",
    "DB_PASSWORD = os.getenv(\"POSTGRE_PASSWORD\")\n",
    "DB_HOST = os.getenv(\"POSTGRE_HOST\", \"localhost\")\n",
    "DB_PORT = os.getenv(\"POSTGRE_PORT\", \"5432\")\n",
    "DB_NAME = os.getenv(\"POSTGRE_DB\")\n",
    "\n",
    "db_url = f\"postgresql+psycopg2://{DB_USER}:{DB_PASSWORD}@{DB_HOST}:{DB_PORT}/{DB_NAME}\"\n",
    "engine = create_engine(db_url)\n",
    "\n",
    "# 기업 코드 수집 모듈\n",
    "from app.crawler.dart_loader import get_corp_code_mapping\n",
    "\n",
    "create_table_sql = \"\"\"\n",
    "CREATE TABLE IF NOT EXISTS dart_corp_map (\n",
    "    corp_code TEXT PRIMARY KEY,\n",
    "    corp_name TEXT,\n",
    "    stock_name TEXT\n",
    ");\n",
    "\"\"\"\n",
    "\n",
    "with engine.begin() as conn:\n",
    "    conn.execute(text(create_table_sql))"
   ]
  },
  {
   "cell_type": "markdown",
   "id": "475bac20-1eae-4b8e-ada7-cba5e6edd24d",
   "metadata": {},
   "source": [
    "### 1. 기업 추가"
   ]
  },
  {
   "cell_type": "code",
   "execution_count": 8,
   "id": "3839442c-6c7f-46cd-8a91-757c476a2710",
   "metadata": {},
   "outputs": [
    {
     "data": {
      "text/html": [
       "<div>\n",
       "<style scoped>\n",
       "    .dataframe tbody tr th:only-of-type {\n",
       "        vertical-align: middle;\n",
       "    }\n",
       "\n",
       "    .dataframe tbody tr th {\n",
       "        vertical-align: top;\n",
       "    }\n",
       "\n",
       "    .dataframe thead th {\n",
       "        text-align: right;\n",
       "    }\n",
       "</style>\n",
       "<table border=\"1\" class=\"dataframe\">\n",
       "  <thead>\n",
       "    <tr style=\"text-align: right;\">\n",
       "      <th></th>\n",
       "      <th>corp_code</th>\n",
       "      <th>corp_name</th>\n",
       "      <th>stock_name</th>\n",
       "    </tr>\n",
       "  </thead>\n",
       "  <tbody>\n",
       "    <tr>\n",
       "      <th>0</th>\n",
       "      <td>00266961</td>\n",
       "      <td>네이버(주)</td>\n",
       "      <td>NAVER</td>\n",
       "    </tr>\n",
       "    <tr>\n",
       "      <th>1</th>\n",
       "      <td>00258801</td>\n",
       "      <td>(주)카카오</td>\n",
       "      <td>카카오</td>\n",
       "    </tr>\n",
       "    <tr>\n",
       "      <th>2</th>\n",
       "      <td>01547845</td>\n",
       "      <td>주식회사 당근마켓</td>\n",
       "      <td>당근마켓</td>\n",
       "    </tr>\n",
       "    <tr>\n",
       "      <th>3</th>\n",
       "      <td>01717824</td>\n",
       "      <td>주식회사 당근페이</td>\n",
       "      <td>당근페이</td>\n",
       "    </tr>\n",
       "    <tr>\n",
       "      <th>4</th>\n",
       "      <td>00126186</td>\n",
       "      <td>삼성에스디에스(주)</td>\n",
       "      <td>삼성에스디에스</td>\n",
       "    </tr>\n",
       "    <tr>\n",
       "      <th>5</th>\n",
       "      <td>00139834</td>\n",
       "      <td>(주)엘지씨엔에스</td>\n",
       "      <td>LG씨엔에스</td>\n",
       "    </tr>\n",
       "  </tbody>\n",
       "</table>\n",
       "</div>"
      ],
      "text/plain": [
       "  corp_code   corp_name stock_name\n",
       "0  00266961      네이버(주)      NAVER\n",
       "1  00258801      (주)카카오        카카오\n",
       "2  01547845   주식회사 당근마켓       당근마켓\n",
       "3  01717824   주식회사 당근페이       당근페이\n",
       "4  00126186  삼성에스디에스(주)    삼성에스디에스\n",
       "5  00139834   (주)엘지씨엔에스     LG씨엔에스"
      ]
     },
     "execution_count": 8,
     "metadata": {},
     "output_type": "execute_result"
    }
   ],
   "source": [
    "corp_names = ['NAVER', \n",
    "              '035720', # 카카오\n",
    "              '당근마켓', \n",
    "              '당근페이', \n",
    "              '삼성에스디에스', \n",
    "              'LG씨엔에스'\n",
    "             ]"
   ]
  },
  {
   "cell_type": "markdown",
   "id": "bffb326f-e6e3-4c2f-841a-d950ac08a2da",
   "metadata": {},
   "source": [
    "### 2. 코드 매핑"
   ]
  },
  {
   "cell_type": "code",
   "execution_count": null,
   "id": "e9cbfb38-4605-4f6d-9dd1-37241eaddc92",
   "metadata": {},
   "outputs": [],
   "source": [
    "df = get_corp_code_mapping(corp_names)\n",
    "df"
   ]
  },
  {
   "cell_type": "markdown",
   "id": "1422763d-be04-4c23-8bfe-c3f7c2c111ee",
   "metadata": {},
   "source": [
    "### 3. 적재"
   ]
  },
  {
   "cell_type": "code",
   "execution_count": 9,
   "id": "a5c0bd8e-5a03-4310-9699-f40ee6c44624",
   "metadata": {},
   "outputs": [
    {
     "data": {
      "text/plain": [
       "6"
      ]
     },
     "execution_count": 9,
     "metadata": {},
     "output_type": "execute_result"
    }
   ],
   "source": [
    "df.to_sql(\n",
    "    'dart_corp_map',\n",
    "    con=engine,\n",
    "    if_exists='replace',  # append: 데이터 추가, replace: 전체 덮어쓰기\n",
    "    index=False\n",
    ")"
   ]
  },
  {
   "cell_type": "markdown",
   "id": "220cf9ce-de97-4d67-8916-a5adc87fdf5a",
   "metadata": {},
   "source": [
    "### 4. 적재 확인"
   ]
  },
  {
   "cell_type": "code",
   "execution_count": 10,
   "id": "47113c98-bfc8-49e8-9c43-e32c8cef1596",
   "metadata": {},
   "outputs": [
    {
     "data": {
      "text/html": [
       "<div>\n",
       "<style scoped>\n",
       "    .dataframe tbody tr th:only-of-type {\n",
       "        vertical-align: middle;\n",
       "    }\n",
       "\n",
       "    .dataframe tbody tr th {\n",
       "        vertical-align: top;\n",
       "    }\n",
       "\n",
       "    .dataframe thead th {\n",
       "        text-align: right;\n",
       "    }\n",
       "</style>\n",
       "<table border=\"1\" class=\"dataframe\">\n",
       "  <thead>\n",
       "    <tr style=\"text-align: right;\">\n",
       "      <th></th>\n",
       "      <th>corp_code</th>\n",
       "      <th>corp_name</th>\n",
       "      <th>stock_name</th>\n",
       "    </tr>\n",
       "  </thead>\n",
       "  <tbody>\n",
       "    <tr>\n",
       "      <th>0</th>\n",
       "      <td>00266961</td>\n",
       "      <td>네이버(주)</td>\n",
       "      <td>NAVER</td>\n",
       "    </tr>\n",
       "    <tr>\n",
       "      <th>1</th>\n",
       "      <td>00258801</td>\n",
       "      <td>(주)카카오</td>\n",
       "      <td>카카오</td>\n",
       "    </tr>\n",
       "    <tr>\n",
       "      <th>2</th>\n",
       "      <td>01547845</td>\n",
       "      <td>주식회사 당근마켓</td>\n",
       "      <td>당근마켓</td>\n",
       "    </tr>\n",
       "    <tr>\n",
       "      <th>3</th>\n",
       "      <td>01717824</td>\n",
       "      <td>주식회사 당근페이</td>\n",
       "      <td>당근페이</td>\n",
       "    </tr>\n",
       "    <tr>\n",
       "      <th>4</th>\n",
       "      <td>00126186</td>\n",
       "      <td>삼성에스디에스(주)</td>\n",
       "      <td>삼성에스디에스</td>\n",
       "    </tr>\n",
       "    <tr>\n",
       "      <th>5</th>\n",
       "      <td>00139834</td>\n",
       "      <td>(주)엘지씨엔에스</td>\n",
       "      <td>LG씨엔에스</td>\n",
       "    </tr>\n",
       "  </tbody>\n",
       "</table>\n",
       "</div>"
      ],
      "text/plain": [
       "  corp_code   corp_name stock_name\n",
       "0  00266961      네이버(주)      NAVER\n",
       "1  00258801      (주)카카오        카카오\n",
       "2  01547845   주식회사 당근마켓       당근마켓\n",
       "3  01717824   주식회사 당근페이       당근페이\n",
       "4  00126186  삼성에스디에스(주)    삼성에스디에스\n",
       "5  00139834   (주)엘지씨엔에스     LG씨엔에스"
      ]
     },
     "execution_count": 10,
     "metadata": {},
     "output_type": "execute_result"
    }
   ],
   "source": [
    "query = \"SELECT * FROM dart_corp_map;\"\n",
    "check = pd.read_sql(query, engine)\n",
    "check"
   ]
  },
  {
   "cell_type": "code",
   "execution_count": null,
   "id": "df8567ea-bf54-4781-9b4a-706e7c01d97f",
   "metadata": {},
   "outputs": [],
   "source": []
  }
 ],
 "metadata": {
  "kernelspec": {
   "display_name": "Python (nc-venv)",
   "language": "python",
   "name": "nc-venv"
  },
  "language_info": {
   "codemirror_mode": {
    "name": "ipython",
    "version": 3
   },
   "file_extension": ".py",
   "mimetype": "text/x-python",
   "name": "python",
   "nbconvert_exporter": "python",
   "pygments_lexer": "ipython3",
   "version": "3.10.18"
  }
 },
 "nbformat": 4,
 "nbformat_minor": 5
}
